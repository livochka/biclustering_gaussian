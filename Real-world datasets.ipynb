{
 "cells": [
  {
   "cell_type": "code",
   "execution_count": 2,
   "id": "24dd253f-ff2d-4831-818c-a827d82d3ab6",
   "metadata": {},
   "outputs": [],
   "source": [
    "import pandas as pd\n",
    "import numpy as np"
   ]
  },
  {
   "cell_type": "code",
   "execution_count": 3,
   "id": "a306e9ed-61aa-4079-a485-076f7d533b92",
   "metadata": {},
   "outputs": [],
   "source": [
    "import warnings\n",
    "warnings.filterwarnings(\"ignore\")"
   ]
  },
  {
   "cell_type": "code",
   "execution_count": 4,
   "id": "eb2175c4-134e-4aeb-b119-fdc818c6b977",
   "metadata": {},
   "outputs": [],
   "source": [
    "from utils.em_clusterization import ExpectationMaximization, AlternatingECM\n",
    "from utils.misc import cluster_accuracy, map_labels\n",
    "from sklearn.mixture import GaussianMixture\n",
    "from sklearn.cluster import KMeans"
   ]
  },
  {
   "cell_type": "code",
   "execution_count": 5,
   "id": "e7438bb3-6cad-4476-a4c7-4fe6b0e72580",
   "metadata": {},
   "outputs": [],
   "source": [
    "np.random.seed(139)"
   ]
  },
  {
   "cell_type": "code",
   "execution_count": 6,
   "id": "69b4c96c-38e4-4351-bbc2-f99443cc06f3",
   "metadata": {},
   "outputs": [],
   "source": [
    "from sklearn.cluster import SpectralCoclustering\n",
    "\n",
    "class SpectralBiClustering:\n",
    "    \n",
    "    def __init__(self, n_clusters):\n",
    "        self.model = SpectralCoclustering(n_clusters = n_clusters)\n",
    "    \n",
    "    \n",
    "    def fit_predict(self, X):\n",
    "        self.model.fit(X)\n",
    "        return self.model.row_labels_\n"
   ]
  },
  {
   "cell_type": "markdown",
   "id": "b579fa3d-5bb0-4c58-889c-8042f68dd253",
   "metadata": {},
   "source": [
    "## 1.0 Wine dataset"
   ]
  },
  {
   "cell_type": "code",
   "execution_count": 111,
   "id": "2e1475ff-6160-4cdd-bfad-f37a69d2440f",
   "metadata": {},
   "outputs": [],
   "source": [
    "import time\n",
    "from sklearn.preprocessing import scale\n",
    "from sklearn.metrics.cluster import adjusted_rand_score\n",
    "\n",
    "\n",
    "def run_models(models, X, y, scaling=False, n_it=10):\n",
    "    result = {\"accuracy\": [], \"ARI\": [], \"execution time\": [], \"model_name\": []}\n",
    "    if scaling:\n",
    "        X = scale(X)\n",
    "        \n",
    "    for model_name in models:\n",
    "        accuracies = []\n",
    "        ARI = []\n",
    "        exec_times = []\n",
    "        \n",
    "        for i in range(n_it):\n",
    "            model = models[model_name](True)\n",
    "            st = time.time()\n",
    "            pred = model.fit_predict(X)\n",
    "            end = time.time()\n",
    "            \n",
    "#             if model_name == \"proposed\":\n",
    "#                 print([np.sum(Di) for Di in model.D[0]])\n",
    "#                 print([np.sum(Di) for Di in model.D[1]])\n",
    "\n",
    "            exec_times.append(end-st)\n",
    "            ARI.append(adjusted_rand_score(y, pred))\n",
    "            accuracies.append(cluster_accuracy(y, pred)[1])\n",
    "        \n",
    "        result[\"accuracy\"].append(np.mean(accuracies))\n",
    "        result[\"ARI\"].append(np.mean(ARI))\n",
    "        result[\"execution time\"].append(np.mean(exec_times))\n",
    "        result[\"model_name\"].append(model_name)\n",
    "    \n",
    "    return pd.DataFrame(result)\n",
    "            \n",
    "\n",
    "            "
   ]
  },
  {
   "cell_type": "code",
   "execution_count": 112,
   "id": "51bd7de8-af04-4ad4-8260-567c4a4a2c31",
   "metadata": {},
   "outputs": [],
   "source": [
    "from sklearn.datasets import load_wine\n",
    "\n",
    "dataset = load_wine()\n",
    "X, y = dataset['data'], dataset['target']"
   ]
  },
  {
   "cell_type": "code",
   "execution_count": 113,
   "id": "c8636294-4608-481b-9ec0-0dfc010cad87",
   "metadata": {},
   "outputs": [],
   "source": [
    "from sklearn.mixture import GaussianMixture\n",
    "from sklearn.cluster import KMeans\n",
    "\n",
    "model_to_run = {\"gmm\" : lambda x: GaussianMixture(n_components=3),\n",
    "                \"kmeans\": lambda x: KMeans(n_clusters=3),\n",
    "                \"aecm\": lambda x: AlternatingECM(n_clusters=3, q=5),\n",
    "                \"proposed\": lambda x: ExpectationMaximization(n_clusters=3, linkage=\"average\", group_search_rng=[2, 3, 4]), \n",
    "               \"spectral\": lambda x: SpectralBiClustering(n_clusters=3)}"
   ]
  },
  {
   "cell_type": "code",
   "execution_count": 114,
   "id": "7516381a-7940-4075-884b-8139ca48e004",
   "metadata": {},
   "outputs": [
    {
     "data": {
      "text/html": [
       "<div>\n",
       "<style scoped>\n",
       "    .dataframe tbody tr th:only-of-type {\n",
       "        vertical-align: middle;\n",
       "    }\n",
       "\n",
       "    .dataframe tbody tr th {\n",
       "        vertical-align: top;\n",
       "    }\n",
       "\n",
       "    .dataframe thead th {\n",
       "        text-align: right;\n",
       "    }\n",
       "</style>\n",
       "<table border=\"1\" class=\"dataframe\">\n",
       "  <thead>\n",
       "    <tr style=\"text-align: right;\">\n",
       "      <th></th>\n",
       "      <th>accuracy</th>\n",
       "      <th>ARI</th>\n",
       "      <th>execution time</th>\n",
       "      <th>model_name</th>\n",
       "    </tr>\n",
       "  </thead>\n",
       "  <tbody>\n",
       "    <tr>\n",
       "      <th>0</th>\n",
       "      <td>0.927528</td>\n",
       "      <td>0.831308</td>\n",
       "      <td>0.009522</td>\n",
       "      <td>gmm</td>\n",
       "    </tr>\n",
       "    <tr>\n",
       "      <th>1</th>\n",
       "      <td>0.966292</td>\n",
       "      <td>0.897495</td>\n",
       "      <td>0.015762</td>\n",
       "      <td>kmeans</td>\n",
       "    </tr>\n",
       "    <tr>\n",
       "      <th>2</th>\n",
       "      <td>0.983708</td>\n",
       "      <td>0.948791</td>\n",
       "      <td>4.320042</td>\n",
       "      <td>aecm</td>\n",
       "    </tr>\n",
       "    <tr>\n",
       "      <th>3</th>\n",
       "      <td>0.983146</td>\n",
       "      <td>0.945885</td>\n",
       "      <td>0.120250</td>\n",
       "      <td>proposed</td>\n",
       "    </tr>\n",
       "    <tr>\n",
       "      <th>4</th>\n",
       "      <td>0.909551</td>\n",
       "      <td>0.738716</td>\n",
       "      <td>0.020445</td>\n",
       "      <td>spectral</td>\n",
       "    </tr>\n",
       "  </tbody>\n",
       "</table>\n",
       "</div>"
      ],
      "text/plain": [
       "   accuracy       ARI  execution time model_name\n",
       "0  0.927528  0.831308        0.009522        gmm\n",
       "1  0.966292  0.897495        0.015762     kmeans\n",
       "2  0.983708  0.948791        4.320042       aecm\n",
       "3  0.983146  0.945885        0.120250   proposed\n",
       "4  0.909551  0.738716        0.020445   spectral"
      ]
     },
     "execution_count": 114,
     "metadata": {},
     "output_type": "execute_result"
    }
   ],
   "source": [
    "run_models(model_to_run, X, y, n_it=10, scaling=True)"
   ]
  },
  {
   "cell_type": "markdown",
   "id": "78460259-ce44-4867-ad9c-9dc58365c26b",
   "metadata": {},
   "source": [
    "## 2.0 Olive dataset"
   ]
  },
  {
   "cell_type": "code",
   "execution_count": 111,
   "id": "1a15e1d7-70a4-4214-aeef-0fcaa18ce637",
   "metadata": {},
   "outputs": [
    {
     "data": {
      "text/html": [
       "<div>\n",
       "<style scoped>\n",
       "    .dataframe tbody tr th:only-of-type {\n",
       "        vertical-align: middle;\n",
       "    }\n",
       "\n",
       "    .dataframe tbody tr th {\n",
       "        vertical-align: top;\n",
       "    }\n",
       "\n",
       "    .dataframe thead th {\n",
       "        text-align: right;\n",
       "    }\n",
       "</style>\n",
       "<table border=\"1\" class=\"dataframe\">\n",
       "  <thead>\n",
       "    <tr style=\"text-align: right;\">\n",
       "      <th></th>\n",
       "      <th>accuracy</th>\n",
       "      <th>ARI</th>\n",
       "      <th>execution time</th>\n",
       "      <th>model_name</th>\n",
       "    </tr>\n",
       "  </thead>\n",
       "  <tbody>\n",
       "    <tr>\n",
       "      <th>0</th>\n",
       "      <td>0.781818</td>\n",
       "      <td>0.601090</td>\n",
       "      <td>0.019907</td>\n",
       "      <td>gmm</td>\n",
       "    </tr>\n",
       "    <tr>\n",
       "      <th>1</th>\n",
       "      <td>0.765734</td>\n",
       "      <td>0.448355</td>\n",
       "      <td>0.047953</td>\n",
       "      <td>kmeans</td>\n",
       "    </tr>\n",
       "    <tr>\n",
       "      <th>2</th>\n",
       "      <td>0.791958</td>\n",
       "      <td>0.517270</td>\n",
       "      <td>19.623902</td>\n",
       "      <td>aecm</td>\n",
       "    </tr>\n",
       "    <tr>\n",
       "      <th>3</th>\n",
       "      <td>0.804196</td>\n",
       "      <td>0.574351</td>\n",
       "      <td>0.169040</td>\n",
       "      <td>proposed</td>\n",
       "    </tr>\n",
       "    <tr>\n",
       "      <th>4</th>\n",
       "      <td>0.573427</td>\n",
       "      <td>0.237712</td>\n",
       "      <td>0.042532</td>\n",
       "      <td>spectral</td>\n",
       "    </tr>\n",
       "  </tbody>\n",
       "</table>\n",
       "</div>"
      ],
      "text/plain": [
       "   accuracy       ARI  execution time model_name\n",
       "0  0.781818  0.601090        0.019907        gmm\n",
       "1  0.765734  0.448355        0.047953     kmeans\n",
       "2  0.791958  0.517270       19.623902       aecm\n",
       "3  0.804196  0.574351        0.169040   proposed\n",
       "4  0.573427  0.237712        0.042532   spectral"
      ]
     },
     "execution_count": 111,
     "metadata": {},
     "output_type": "execute_result"
    }
   ],
   "source": [
    "OLIVE_DATA_URL = 'https://www.scss.tcd.ie/~arwhite/Teaching/STU33011/olive.csv'\n",
    "data = pd.read_csv(OLIVE_DATA_URL)\n",
    "\n",
    "# Use data[:,1] for area\n",
    "X, y = data.values[:,2:], map_labels(data.values[:,0])\n",
    "\n",
    "model_to_run = {\"gmm\" : lambda x: GaussianMixture(n_components=3),\n",
    "                \"kmeans\": lambda x: KMeans(n_clusters=3),\n",
    "                \"aecm\": lambda x: AlternatingECM(n_clusters=3, q=3),\n",
    "                \"proposed\": lambda x: ExpectationMaximization(n_clusters=3, linkage=\"average\", group_search_rng=[2, 3, 4]),\n",
    "                \"spectral\": lambda x: SpectralBiClustering(n_clusters=3)}\n",
    "\n",
    "run_models(model_to_run, X, y, n_it=10, scaling=True)"
   ]
  },
  {
   "cell_type": "markdown",
   "id": "bf32a362-ba00-4a50-b6bf-4fab3edd0382",
   "metadata": {},
   "source": [
    "## 3.0 Ecoli dataset"
   ]
  },
  {
   "cell_type": "code",
   "execution_count": 116,
   "id": "0b8fd7b3-bd0e-475f-a147-4039a83fdbf2",
   "metadata": {},
   "outputs": [
    {
     "data": {
      "text/html": [
       "<div>\n",
       "<style scoped>\n",
       "    .dataframe tbody tr th:only-of-type {\n",
       "        vertical-align: middle;\n",
       "    }\n",
       "\n",
       "    .dataframe tbody tr th {\n",
       "        vertical-align: top;\n",
       "    }\n",
       "\n",
       "    .dataframe thead th {\n",
       "        text-align: right;\n",
       "    }\n",
       "</style>\n",
       "<table border=\"1\" class=\"dataframe\">\n",
       "  <thead>\n",
       "    <tr style=\"text-align: right;\">\n",
       "      <th></th>\n",
       "      <th>accuracy</th>\n",
       "      <th>ARI</th>\n",
       "      <th>execution time</th>\n",
       "      <th>model_name</th>\n",
       "    </tr>\n",
       "  </thead>\n",
       "  <tbody>\n",
       "    <tr>\n",
       "      <th>0</th>\n",
       "      <td>0.760417</td>\n",
       "      <td>0.652883</td>\n",
       "      <td>0.017651</td>\n",
       "      <td>gmm</td>\n",
       "    </tr>\n",
       "    <tr>\n",
       "      <th>1</th>\n",
       "      <td>0.647917</td>\n",
       "      <td>0.504246</td>\n",
       "      <td>0.053712</td>\n",
       "      <td>kmeans</td>\n",
       "    </tr>\n",
       "    <tr>\n",
       "      <th>2</th>\n",
       "      <td>0.762500</td>\n",
       "      <td>0.656224</td>\n",
       "      <td>0.138954</td>\n",
       "      <td>proposed</td>\n",
       "    </tr>\n",
       "    <tr>\n",
       "      <th>3</th>\n",
       "      <td>0.564286</td>\n",
       "      <td>0.394227</td>\n",
       "      <td>0.048215</td>\n",
       "      <td>spectral</td>\n",
       "    </tr>\n",
       "  </tbody>\n",
       "</table>\n",
       "</div>"
      ],
      "text/plain": [
       "   accuracy       ARI  execution time model_name\n",
       "0  0.760417  0.652883        0.017651        gmm\n",
       "1  0.647917  0.504246        0.053712     kmeans\n",
       "2  0.762500  0.656224        0.138954   proposed\n",
       "3  0.564286  0.394227        0.048215   spectral"
      ]
     },
     "execution_count": 116,
     "metadata": {},
     "output_type": "execute_result"
    }
   ],
   "source": [
    "ECOLI_DATA_URL = 'https://archive.ics.uci.edu/ml/machine-learning-databases/ecoli/ecoli.data'\n",
    "data = pd.read_csv(ECOLI_DATA_URL, header=None, delim_whitespace=True)\n",
    "\n",
    "X, y = data.values[:,1:-1].astype('float'), map_labels(data.values[:,-1])\n",
    "\n",
    "model_to_run = {\"gmm\" : lambda x: GaussianMixture(n_components=8),\n",
    "                \"kmeans\": lambda x: KMeans(n_clusters=8),\n",
    "               # \"aecm\": lambda x: AlternatingECM(n_clusters=8, q=4),\n",
    "                \"proposed\": lambda x: ExpectationMaximization(n_clusters=8, linkage=\"average\", group_search_rng=[3]),\n",
    "                \"spectral\": lambda x: SpectralBiClustering(n_clusters=8)}\n",
    "\n",
    "run_models(model_to_run, X, y, n_it=10, scaling=True)"
   ]
  },
  {
   "cell_type": "markdown",
   "id": "b05922e1-5cbc-4efb-81ca-82c969f8c892",
   "metadata": {},
   "source": [
    "## 4.0 Alon dataset"
   ]
  },
  {
   "cell_type": "code",
   "execution_count": 132,
   "id": "8bd9f7ba-9f86-4fc5-904f-efbbc23f759c",
   "metadata": {},
   "outputs": [],
   "source": [
    "data = pd.read_csv(\"data/alon/alon-exprs.csv\")\n",
    "data.drop([62], inplace=True)\n",
    "data[\"V461\"] = data[\"V461\\\\\"].apply(lambda v: float(v[:-1]))\n",
    "data.drop(columns=[\"V461\\\\\"], inplace=True)\n",
    "\n",
    "X = data.values\n",
    "y = (pd.read_csv(\"data/alon/alon-class.csv\").x - 1).values"
   ]
  },
  {
   "cell_type": "code",
   "execution_count": 133,
   "id": "29cdfb67-ceef-41cd-ad7e-82b978aa9bfb",
   "metadata": {},
   "outputs": [
    {
     "data": {
      "text/plain": [
       "(62, 461)"
      ]
     },
     "execution_count": 133,
     "metadata": {},
     "output_type": "execute_result"
    }
   ],
   "source": [
    "data.shape"
   ]
  },
  {
   "cell_type": "code",
   "execution_count": 118,
   "id": "7232f65a-e6eb-422e-8126-6f28bfac1c0e",
   "metadata": {},
   "outputs": [],
   "source": [
    "from sklearn.feature_selection import SelectKBest\n",
    "from sklearn.feature_selection import f_classif\n",
    "\n",
    "def select_features(X, y, k=100):\n",
    "    X_new = SelectKBest(f_classif, k=k).fit_transform(X, y)\n",
    "    return X_new\n",
    "\n",
    "def select_random_features(X, k=100):\n",
    "    ind = np.random.choice(np.arange(X.shape[1]), k, replace=False)\n",
    "    return X[:, ind]"
   ]
  },
  {
   "cell_type": "code",
   "execution_count": 119,
   "id": "51824dda-ef13-4125-9980-6dc0a6b15d53",
   "metadata": {},
   "outputs": [
    {
     "data": {
      "text/html": [
       "<div>\n",
       "<style scoped>\n",
       "    .dataframe tbody tr th:only-of-type {\n",
       "        vertical-align: middle;\n",
       "    }\n",
       "\n",
       "    .dataframe tbody tr th {\n",
       "        vertical-align: top;\n",
       "    }\n",
       "\n",
       "    .dataframe thead th {\n",
       "        text-align: right;\n",
       "    }\n",
       "</style>\n",
       "<table border=\"1\" class=\"dataframe\">\n",
       "  <thead>\n",
       "    <tr style=\"text-align: right;\">\n",
       "      <th></th>\n",
       "      <th>accuracy</th>\n",
       "      <th>ARI</th>\n",
       "      <th>execution time</th>\n",
       "      <th>model_name</th>\n",
       "    </tr>\n",
       "  </thead>\n",
       "  <tbody>\n",
       "    <tr>\n",
       "      <th>0</th>\n",
       "      <td>0.874194</td>\n",
       "      <td>0.553512</td>\n",
       "      <td>0.013955</td>\n",
       "      <td>gmm</td>\n",
       "    </tr>\n",
       "    <tr>\n",
       "      <th>1</th>\n",
       "      <td>0.887097</td>\n",
       "      <td>0.592196</td>\n",
       "      <td>0.013017</td>\n",
       "      <td>kmeans</td>\n",
       "    </tr>\n",
       "    <tr>\n",
       "      <th>2</th>\n",
       "      <td>0.887097</td>\n",
       "      <td>0.592196</td>\n",
       "      <td>114.222108</td>\n",
       "      <td>aecm</td>\n",
       "    </tr>\n",
       "    <tr>\n",
       "      <th>3</th>\n",
       "      <td>0.887097</td>\n",
       "      <td>0.592196</td>\n",
       "      <td>0.812161</td>\n",
       "      <td>proposed</td>\n",
       "    </tr>\n",
       "    <tr>\n",
       "      <th>4</th>\n",
       "      <td>0.838710</td>\n",
       "      <td>0.450288</td>\n",
       "      <td>0.026637</td>\n",
       "      <td>spectral</td>\n",
       "    </tr>\n",
       "  </tbody>\n",
       "</table>\n",
       "</div>"
      ],
      "text/plain": [
       "   accuracy       ARI  execution time model_name\n",
       "0  0.874194  0.553512        0.013955        gmm\n",
       "1  0.887097  0.592196        0.013017     kmeans\n",
       "2  0.887097  0.592196      114.222108       aecm\n",
       "3  0.887097  0.592196        0.812161   proposed\n",
       "4  0.838710  0.450288        0.026637   spectral"
      ]
     },
     "execution_count": 119,
     "metadata": {},
     "output_type": "execute_result"
    }
   ],
   "source": [
    "# Running on a subset of 100 best predictors\n",
    "model_to_run = {\"gmm\" : lambda x: GaussianMixture(n_components=2),\n",
    "                \"kmeans\": lambda x: KMeans(n_clusters=2),\n",
    "               \"aecm\": lambda x: AlternatingECM(n_clusters=2, q=5),\n",
    "                \"proposed\": lambda x: ExpectationMaximization(n_clusters=2, linkage=\"average\", group_search_rng=[3, 4, 5]),\n",
    "                \"spectral\": lambda x: SpectralBiClustering(n_clusters=2)\n",
    "               }\n",
    "\n",
    "n_features = 100\n",
    "X_selected = select_features(X, y, k=n_features)\n",
    "run_models(model_to_run, X_selected, y, n_it=5, scaling=True)"
   ]
  },
  {
   "cell_type": "code",
   "execution_count": 129,
   "id": "1a749ddd-fe00-4c9b-a939-6f0af6b38b05",
   "metadata": {},
   "outputs": [
    {
     "data": {
      "text/html": [
       "<div>\n",
       "<style scoped>\n",
       "    .dataframe tbody tr th:only-of-type {\n",
       "        vertical-align: middle;\n",
       "    }\n",
       "\n",
       "    .dataframe tbody tr th {\n",
       "        vertical-align: top;\n",
       "    }\n",
       "\n",
       "    .dataframe thead th {\n",
       "        text-align: right;\n",
       "    }\n",
       "</style>\n",
       "<table border=\"1\" class=\"dataframe\">\n",
       "  <thead>\n",
       "    <tr style=\"text-align: right;\">\n",
       "      <th></th>\n",
       "      <th>accuracy</th>\n",
       "      <th>ARI</th>\n",
       "      <th>execution time</th>\n",
       "      <th>model_name</th>\n",
       "    </tr>\n",
       "  </thead>\n",
       "  <tbody>\n",
       "    <tr>\n",
       "      <th>0</th>\n",
       "      <td>0.583871</td>\n",
       "      <td>0.042240</td>\n",
       "      <td>0.049828</td>\n",
       "      <td>gmm</td>\n",
       "    </tr>\n",
       "    <tr>\n",
       "      <th>1</th>\n",
       "      <td>0.551613</td>\n",
       "      <td>-0.003116</td>\n",
       "      <td>0.015926</td>\n",
       "      <td>kmeans</td>\n",
       "    </tr>\n",
       "    <tr>\n",
       "      <th>2</th>\n",
       "      <td>0.554839</td>\n",
       "      <td>0.001733</td>\n",
       "      <td>7.829108</td>\n",
       "      <td>proposed</td>\n",
       "    </tr>\n",
       "    <tr>\n",
       "      <th>3</th>\n",
       "      <td>0.548387</td>\n",
       "      <td>-0.006395</td>\n",
       "      <td>0.037958</td>\n",
       "      <td>spectral</td>\n",
       "    </tr>\n",
       "  </tbody>\n",
       "</table>\n",
       "</div>"
      ],
      "text/plain": [
       "   accuracy       ARI  execution time model_name\n",
       "0  0.583871  0.042240        0.049828        gmm\n",
       "1  0.551613 -0.003116        0.015926     kmeans\n",
       "2  0.554839  0.001733        7.829108   proposed\n",
       "3  0.548387 -0.006395        0.037958   spectral"
      ]
     },
     "execution_count": 129,
     "metadata": {},
     "output_type": "execute_result"
    }
   ],
   "source": [
    "# Running clustering on whole dataset\n",
    "model_to_run = {\"gmm\" : lambda x: GaussianMixture(n_components=2),\n",
    "                \"kmeans\": lambda x: KMeans(n_clusters=2),\n",
    "              # \"aecm\": lambda x: AlternatingECM(n_clusters=2, q=5),\n",
    "                \"proposed\": lambda x: ExpectationMaximization(n_clusters=2, linkage=\"complete\", group_search_rng=[2]),\n",
    "                \"spectral\": lambda x: SpectralBiClustering(n_clusters=2)\n",
    "               }\n",
    "\n",
    "run_models(model_to_run, X, y, n_it=5, scaling=True)"
   ]
  },
  {
   "cell_type": "markdown",
   "id": "ad8e3730-d957-45df-96da-d2b5dc526ad7",
   "metadata": {},
   "source": [
    "## 5.0 Golub dataset"
   ]
  },
  {
   "cell_type": "code",
   "execution_count": 134,
   "id": "9d530fdd-27e6-4028-b1fb-287016a1243d",
   "metadata": {},
   "outputs": [],
   "source": [
    "data = pd.read_csv(\"data/golub/golub.csv\")\n",
    "X, y = data.drop(columns=[\"class\"]).values, data[\"class\"].values - 1"
   ]
  },
  {
   "cell_type": "code",
   "execution_count": 135,
   "id": "45b159af-5071-42ac-a2b2-0124b56d24a3",
   "metadata": {},
   "outputs": [
    {
     "data": {
      "text/plain": [
       "(72, 2030)"
      ]
     },
     "execution_count": 135,
     "metadata": {},
     "output_type": "execute_result"
    }
   ],
   "source": [
    "X.shape"
   ]
  },
  {
   "cell_type": "code",
   "execution_count": 95,
   "id": "1205c7f3-cd8a-4de5-8122-d22bb982d8f2",
   "metadata": {},
   "outputs": [
    {
     "name": "stdout",
     "output_type": "stream",
     "text": [
      "[224.0, 1806.0]\n",
      "[1869.0, 161.0]\n"
     ]
    },
    {
     "data": {
      "text/html": [
       "<div>\n",
       "<style scoped>\n",
       "    .dataframe tbody tr th:only-of-type {\n",
       "        vertical-align: middle;\n",
       "    }\n",
       "\n",
       "    .dataframe tbody tr th {\n",
       "        vertical-align: top;\n",
       "    }\n",
       "\n",
       "    .dataframe thead th {\n",
       "        text-align: right;\n",
       "    }\n",
       "</style>\n",
       "<table border=\"1\" class=\"dataframe\">\n",
       "  <thead>\n",
       "    <tr style=\"text-align: right;\">\n",
       "      <th></th>\n",
       "      <th>accuracy</th>\n",
       "      <th>ARI</th>\n",
       "      <th>execution time</th>\n",
       "      <th>model_name</th>\n",
       "    </tr>\n",
       "  </thead>\n",
       "  <tbody>\n",
       "    <tr>\n",
       "      <th>0</th>\n",
       "      <td>0.708333</td>\n",
       "      <td>0.161019</td>\n",
       "      <td>0.831950</td>\n",
       "      <td>gmm</td>\n",
       "    </tr>\n",
       "    <tr>\n",
       "      <th>1</th>\n",
       "      <td>0.708333</td>\n",
       "      <td>0.162078</td>\n",
       "      <td>0.011937</td>\n",
       "      <td>kmeans</td>\n",
       "    </tr>\n",
       "    <tr>\n",
       "      <th>2</th>\n",
       "      <td>0.736111</td>\n",
       "      <td>0.212943</td>\n",
       "      <td>271.236910</td>\n",
       "      <td>proposed</td>\n",
       "    </tr>\n",
       "    <tr>\n",
       "      <th>3</th>\n",
       "      <td>0.722222</td>\n",
       "      <td>0.185869</td>\n",
       "      <td>0.186320</td>\n",
       "      <td>spectral</td>\n",
       "    </tr>\n",
       "  </tbody>\n",
       "</table>\n",
       "</div>"
      ],
      "text/plain": [
       "   accuracy       ARI  execution time model_name\n",
       "0  0.708333  0.161019        0.831950        gmm\n",
       "1  0.708333  0.162078        0.011937     kmeans\n",
       "2  0.736111  0.212943      271.236910   proposed\n",
       "3  0.722222  0.185869        0.186320   spectral"
      ]
     },
     "execution_count": 95,
     "metadata": {},
     "output_type": "execute_result"
    }
   ],
   "source": [
    "# Running on whole dataset\n",
    "model_to_run = {\"gmm\" : lambda x: GaussianMixture(n_components=2),\n",
    "                \"kmeans\": lambda x: KMeans(n_clusters=2),\n",
    "               #\"aecm\": lambda x: AlternatingECM(n_clusters=2, q=5),\n",
    "                \"proposed\": lambda x: ExpectationMaximization(n_clusters=2, linkage=\"average\", group_search_rng=[2, 3, 4]),\n",
    "                \"spectral\": lambda x: SpectralBiClustering(n_clusters=2)\n",
    "               }\n",
    "\n",
    "run_models(model_to_run, X, y, n_it=1, scaling=True)"
   ]
  },
  {
   "cell_type": "code",
   "execution_count": 124,
   "id": "4070e220-f701-446e-b0a4-a70d1e7135b4",
   "metadata": {},
   "outputs": [
    {
     "data": {
      "text/html": [
       "<div>\n",
       "<style scoped>\n",
       "    .dataframe tbody tr th:only-of-type {\n",
       "        vertical-align: middle;\n",
       "    }\n",
       "\n",
       "    .dataframe tbody tr th {\n",
       "        vertical-align: top;\n",
       "    }\n",
       "\n",
       "    .dataframe thead th {\n",
       "        text-align: right;\n",
       "    }\n",
       "</style>\n",
       "<table border=\"1\" class=\"dataframe\">\n",
       "  <thead>\n",
       "    <tr style=\"text-align: right;\">\n",
       "      <th></th>\n",
       "      <th>accuracy</th>\n",
       "      <th>ARI</th>\n",
       "      <th>execution time</th>\n",
       "      <th>model_name</th>\n",
       "    </tr>\n",
       "  </thead>\n",
       "  <tbody>\n",
       "    <tr>\n",
       "      <th>0</th>\n",
       "      <td>0.972222</td>\n",
       "      <td>0.889738</td>\n",
       "      <td>0.012788</td>\n",
       "      <td>gmm</td>\n",
       "    </tr>\n",
       "    <tr>\n",
       "      <th>1</th>\n",
       "      <td>0.972222</td>\n",
       "      <td>0.889738</td>\n",
       "      <td>0.013169</td>\n",
       "      <td>kmeans</td>\n",
       "    </tr>\n",
       "    <tr>\n",
       "      <th>2</th>\n",
       "      <td>0.972222</td>\n",
       "      <td>0.889738</td>\n",
       "      <td>21.734696</td>\n",
       "      <td>aecm</td>\n",
       "    </tr>\n",
       "    <tr>\n",
       "      <th>3</th>\n",
       "      <td>0.972222</td>\n",
       "      <td>0.889738</td>\n",
       "      <td>0.697017</td>\n",
       "      <td>proposed</td>\n",
       "    </tr>\n",
       "    <tr>\n",
       "      <th>4</th>\n",
       "      <td>0.958333</td>\n",
       "      <td>0.837557</td>\n",
       "      <td>0.017515</td>\n",
       "      <td>spectral</td>\n",
       "    </tr>\n",
       "  </tbody>\n",
       "</table>\n",
       "</div>"
      ],
      "text/plain": [
       "   accuracy       ARI  execution time model_name\n",
       "0  0.972222  0.889738        0.012788        gmm\n",
       "1  0.972222  0.889738        0.013169     kmeans\n",
       "2  0.972222  0.889738       21.734696       aecm\n",
       "3  0.972222  0.889738        0.697017   proposed\n",
       "4  0.958333  0.837557        0.017515   spectral"
      ]
     },
     "execution_count": 124,
     "metadata": {},
     "output_type": "execute_result"
    }
   ],
   "source": [
    "# Running on a subset of 100 best predictors\n",
    "\n",
    "model_to_run = {\"gmm\" : lambda x: GaussianMixture(n_components=2),\n",
    "                \"kmeans\": lambda x: KMeans(n_clusters=2),\n",
    "               \"aecm\": lambda x: AlternatingECM(n_clusters=2, q=3),\n",
    "                \"proposed\": lambda x: ExpectationMaximization(n_clusters=2, linkage=\"average\", group_search_rng=[3, 4, 5, 6]),\n",
    "                \"spectral\": lambda x: SpectralBiClustering(n_clusters=2)\n",
    "               }\n",
    "\n",
    "\n",
    "n_features = 100\n",
    "X_selected = select_features(X, y, k=n_features)\n",
    "run_models(model_to_run, X_selected, y, n_it=5, scaling=True)"
   ]
  },
  {
   "cell_type": "code",
   "execution_count": null,
   "id": "3e556333-21ae-4022-b3a7-503690a47020",
   "metadata": {},
   "outputs": [],
   "source": []
  }
 ],
 "metadata": {
  "kernelspec": {
   "display_name": "Python 3 (ipykernel)",
   "language": "python",
   "name": "python3"
  },
  "language_info": {
   "codemirror_mode": {
    "name": "ipython",
    "version": 3
   },
   "file_extension": ".py",
   "mimetype": "text/x-python",
   "name": "python",
   "nbconvert_exporter": "python",
   "pygments_lexer": "ipython3",
   "version": "3.9.12"
  }
 },
 "nbformat": 4,
 "nbformat_minor": 5
}
